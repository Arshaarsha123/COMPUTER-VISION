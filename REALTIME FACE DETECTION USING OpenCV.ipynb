{
 "cells": [
  {
   "cell_type": "markdown",
   "id": "efe70a71",
   "metadata": {},
   "source": [
    "# STEP 1:Pre-Requisites"
   ]
  },
  {
   "cell_type": "code",
   "execution_count": 1,
   "id": "2fd2da31",
   "metadata": {},
   "outputs": [],
   "source": [
    "# Importing OpenCV library and load the Haar Cascade model \n",
    "\n",
    "import cv2\n",
    "\n",
    "face_classifier = cv2.CascadeClassifier(\n",
    "    cv2.data.haarcascades + \"haarcascade_frontalface_default.xml\"\n",
    ")"
   ]
  },
  {
   "cell_type": "markdown",
   "id": "7d4db892",
   "metadata": {},
   "source": [
    "# STEP 2:Access the Webcam"
   ]
  },
  {
   "cell_type": "code",
   "execution_count": 2,
   "id": "92e7ab11",
   "metadata": {},
   "outputs": [],
   "source": [
    "# Now, we need to access our device’s camera to read a live stream of video data. This can be done with the following code:\n",
    "\n",
    "\n",
    "video_capture = cv2.VideoCapture(0)"
   ]
  },
  {
   "cell_type": "markdown",
   "id": "bae9a0ee",
   "metadata": {},
   "source": [
    "# STEP 3:Identifying Faces in the Video Stream"
   ]
  },
  {
   "cell_type": "code",
   "execution_count": 4,
   "id": "d41d9fcb",
   "metadata": {},
   "outputs": [],
   "source": [
    "# Now, let’s create a function to detect faces in the video stream and draw a bounding box around them:\n",
    "\n",
    "\n",
    "def detect_bounding_box(vid):\n",
    "    gray_image = cv2.cvtColor(vid, cv2.COLOR_BGR2GRAY)\n",
    "    faces = face_classifier.detectMultiScale(gray_image, 1.1, 5, minSize=(40, 40))\n",
    "    for (x, y, w, h) in faces:\n",
    "        cv2.rectangle(vid, (x, y), (x + w, y + h), (0, 255, 0), 4)\n",
    "    return faces"
   ]
  },
  {
   "cell_type": "markdown",
   "id": "8e4b9cca",
   "metadata": {},
   "source": [
    "# Step 4: Creating a Loop for Real-Time Face Detection"
   ]
  },
  {
   "cell_type": "code",
   "execution_count": 6,
   "id": "2067ffdd",
   "metadata": {},
   "outputs": [],
   "source": [
    "# Now, we need to create an indefinite while loop that will capture the video frame from our webcam and apply the face detection function to it:\n",
    "\n",
    "\n",
    "while True:\n",
    "\n",
    "    result, video_frame = video_capture.read()  # read frames from the video\n",
    "    if result is False:\n",
    "        break  # terminate the loop if the frame is not read successfully\n",
    "\n",
    "    faces = detect_bounding_box(\n",
    "        video_frame\n",
    "    )  # apply the function we created to the video frame\n",
    "\n",
    "    cv2.imshow(\n",
    "        \"My Face Detection Project\", video_frame\n",
    "    )  # display the processed frame in a window named \"My Face Detection Project\"\n",
    "\n",
    "    if cv2.waitKey(1) & 0xFF == ord(\"q\"):\n",
    "        break\n",
    "\n",
    "video_capture.release()\n",
    "cv2.destroyAllWindows()"
   ]
  },
  {
   "cell_type": "code",
   "execution_count": 1,
   "id": "f346bb22",
   "metadata": {},
   "outputs": [],
   "source": []
  },
  {
   "cell_type": "code",
   "execution_count": null,
   "id": "e4d945d1",
   "metadata": {},
   "outputs": [],
   "source": []
  }
 ],
 "metadata": {
  "kernelspec": {
   "display_name": "Python 3 (ipykernel)",
   "language": "python",
   "name": "python3"
  },
  "language_info": {
   "codemirror_mode": {
    "name": "ipython",
    "version": 3
   },
   "file_extension": ".py",
   "mimetype": "text/x-python",
   "name": "python",
   "nbconvert_exporter": "python",
   "pygments_lexer": "ipython3",
   "version": "3.11.5"
  }
 },
 "nbformat": 4,
 "nbformat_minor": 5
}
